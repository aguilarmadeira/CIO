{
  "nbformat": 4,
  "nbformat_minor": 0,
  "metadata": {
    "colab": {
      "provenance": [],
      "authorship_tag": "ABX9TyP/XEW8a0W0WwVtMFkk8tvG",
      "include_colab_link": true
    },
    "kernelspec": {
      "name": "python3",
      "display_name": "Python 3"
    },
    "language_info": {
      "name": "python"
    }
  },
  "cells": [
    {
      "cell_type": "markdown",
      "metadata": {
        "id": "view-in-github",
        "colab_type": "text"
      },
      "source": [
        "<a href=\"https://colab.research.google.com/github/aguilarmadeira/CIO/blob/main/Exemplo_3_criterios_3_alternativas_b.ipynb\" target=\"_parent\"><img src=\"https://colab.research.google.com/assets/colab-badge.svg\" alt=\"Open In Colab\"/></a>"
      ]
    },
    {
      "cell_type": "markdown",
      "source": [
        "Resolução do exercicio 3 criterios 3 alternativa"
      ],
      "metadata": {
        "id": "iOU2csUboJb4"
      }
    },
    {
      "cell_type": "markdown",
      "source": [
        "Determinar a matriz normalizada"
      ],
      "metadata": {
        "id": "IjfHLy7EgNKc"
      }
    },
    {
      "cell_type": "code",
      "source": [
        "import numpy as np\n",
        "\n",
        "def normalizar_matriz(matriz):\n",
        "    soma_colunas = np.sum(matriz, axis=0)\n",
        "    matriz_normalizada = matriz / soma_colunas\n",
        "    return matriz_normalizada\n"
      ],
      "metadata": {
        "id": "a983dGQNfwZh"
      },
      "execution_count": 1,
      "outputs": []
    },
    {
      "cell_type": "markdown",
      "source": [
        "calcular Pesos (VP Vetor das prioridades)"
      ],
      "metadata": {
        "id": "ED_i4hCLgR9q"
      }
    },
    {
      "cell_type": "code",
      "source": [
        "def calcular_pesos(matriz_normalizada):\n",
        "    pesos = np.mean(matriz_normalizada, axis=1)\n",
        "    return pesos"
      ],
      "metadata": {
        "id": "_ceD-oCkgKjj"
      },
      "execution_count": 2,
      "outputs": []
    },
    {
      "cell_type": "markdown",
      "source": [
        "Verificar se a matriz é consistente\n"
      ],
      "metadata": {
        "id": "eaAMMqqwg-QY"
      }
    },
    {
      "cell_type": "code",
      "source": [
        "def calcular_consistencia(matriz, pesos):\n",
        "    lambda_max = np.mean(np.sum(matriz * pesos, axis=1) / pesos)\n",
        "    print(\"lambda_max: \", lambda_max)\n",
        "    n = matriz.shape[0]\n",
        "    ci = (lambda_max - n) / (n - 1)\n",
        "    return ci\n",
        "\n",
        "def calcular_cr(ci, n):\n",
        "    ri_dict = {1: 0.00, 2: 0.00, 3: 0.58, 4: 0.90, 5: 1.12, 6: 1.24, 7: 1.32, 8: 1.41, 9: 1.45, 10: 1.49}\n",
        "    ri = ri_dict.get(n, 1.49)  # Se n > 10, usar 1.49 como valor padrão de RI\n",
        "    cr = ci / ri\n",
        "    return cr"
      ],
      "metadata": {
        "id": "o6h4zhhyhCkY"
      },
      "execution_count": 3,
      "outputs": []
    },
    {
      "cell_type": "markdown",
      "source": [
        "Função principal do AHP"
      ],
      "metadata": {
        "id": "7iJhX0qej7kL"
      }
    },
    {
      "cell_type": "code",
      "source": [
        "def ahp(matriz_criterios, matrizes_alternativas):\n",
        "    # Calcular pesos dos critérios\n",
        "    matriz_criterios_normalizada = normalizar_matriz(matriz_criterios)\n",
        "    print(\"matriz_criterios_normalizada: \", matriz_criterios_normalizada)\n",
        "    pesos_criterios = calcular_pesos(matriz_criterios_normalizada)\n",
        "    print(\"pesos_criterios: \", pesos_criterios)\n",
        "    ci_criterios = calcular_consistencia(matriz_criterios, pesos_criterios)\n",
        "    print(\"ci_criterios: \", ci_criterios)\n",
        "    cr_criterios = calcular_cr(ci_criterios, matriz_criterios.shape[0])\n",
        "    print(\"cr_criterios: \", cr_criterios)\n",
        "\n",
        "    if cr_criterios > 0.1:\n",
        "        print(f\"A matriz de critérios não é consistente. CR = {cr_criterios:.2f}\")\n",
        "\n",
        "    # Calcular pesos das alternativas para cada critério\n",
        "    pesos_alternativas = []\n",
        "    cr_alternativas = []\n",
        "    for i, matriz in enumerate(matrizes_alternativas):\n",
        "        matriz_normalizada = normalizar_matriz(matriz)\n",
        "        print(\"matriz_normalizada: \", matriz_normalizada)\n",
        "        pesos = calcular_pesos(matriz_normalizada)\n",
        "        print(\"pesos: \", pesos)\n",
        "        ci = calcular_consistencia(matriz, pesos)\n",
        "        print(\"ci: \", ci)\n",
        "        cr = calcular_cr(ci, matriz.shape[0])\n",
        "\n",
        "        if cr > 0.1:\n",
        "            print(f\"Uma das matrizes de alternativas (Critério {i+1}) não é consistente. CR = {cr:.2f}\")\n",
        "\n",
        "        pesos_alternativas.append(pesos)\n",
        "        cr_alternativas.append(cr)\n",
        "\n",
        "    # Calcular a pontuação final das alternativas\n",
        "    pesos_alternativas = np.array(pesos_alternativas).T\n",
        "    pontuacao_final = np.dot(pesos_alternativas, pesos_criterios)\n",
        "\n",
        "    return pesos_criterios, cr_criterios, pesos_alternativas, cr_alternativas, pontuacao_final\n"
      ],
      "metadata": {
        "id": "RnV_YPwtl9gh"
      },
      "execution_count": 4,
      "outputs": []
    },
    {
      "cell_type": "markdown",
      "source": [
        "Exemplo de 3 criterios com 3 alternativas"
      ],
      "metadata": {
        "id": "rQO7dsWqkijG"
      }
    },
    {
      "cell_type": "code",
      "source": [
        "matriz_criterios = np.array([\n",
        "    [1, 1/2, 4],\n",
        "    [2, 1, 7],\n",
        "    [1/4, 1/7, 1]\n",
        "])\n",
        "\n",
        "matriz_alternativas_c1 = np.array([\n",
        "    [1, 1/3, 3],\n",
        "    [3, 1, 5],\n",
        "    [1/3, 1/5, 1]\n",
        "])\n",
        "\n",
        "matriz_alternativas_c2 = np.array([\n",
        "    [1, 5, 1/7],\n",
        "    [1/5, 1, 1/8],\n",
        "    [7, 8, 1]\n",
        "])\n",
        "\n",
        "matriz_alternativas_c3 = np.array([\n",
        "    [1, 2, 1/3],\n",
        "    [1/2, 1, 1/4],\n",
        "    [3, 4, 1]\n",
        "])\n",
        "\n",
        "matrizes_alternativas = [matriz_alternativas_c1, matriz_alternativas_c2, matriz_alternativas_c3]\n"
      ],
      "metadata": {
        "id": "HRelKLFPkoLa"
      },
      "execution_count": 5,
      "outputs": []
    },
    {
      "cell_type": "markdown",
      "source": [
        "Chamar a função AHP"
      ],
      "metadata": {
        "id": "u0xTIcfRk5By"
      }
    },
    {
      "cell_type": "code",
      "source": [
        "pesos_criterios, cr_criterios, pesos_alternativas, cr_alternativas, pontuacao_final = ahp(matriz_criterios, matrizes_alternativas)\n",
        "\n",
        "print(\"Pesos dos Critérios: \", pesos_criterios)\n",
        "print(\"Razão de Consistência dos Critérios (CR): \", cr_criterios)\n",
        "print(\"Pesos das Alternativas para cada Critério: \\n\", pesos_alternativas)\n",
        "print(\"Razões de Consistência das Alternativas (CR): \", cr_alternativas)\n",
        "print(\"Pontuação Final das Alternativas: \", pontuacao_final)\n",
        "\n",
        ""
      ],
      "metadata": {
        "colab": {
          "base_uri": "https://localhost:8080/"
        },
        "id": "xPm0abZik9N8",
        "outputId": "39c0f84c-a0ee-4f81-8bc7-8e2b020d348a"
      },
      "execution_count": 6,
      "outputs": [
        {
          "output_type": "stream",
          "name": "stdout",
          "text": [
            "matriz_criterios_normalizada:  [[0.30769231 0.30434783 0.33333333]\n",
            " [0.61538462 0.60869565 0.58333333]\n",
            " [0.07692308 0.08695652 0.08333333]]\n",
            "pesos_criterios:  [0.31512449 0.6024712  0.08240431]\n",
            "lambda_max:  3.0019820297612774\n",
            "ci_criterios:  0.0009910148806386854\n",
            "cr_criterios:  0.001708646345928768\n",
            "matriz_normalizada:  [[0.23076923 0.2173913  0.33333333]\n",
            " [0.69230769 0.65217391 0.55555556]\n",
            " [0.07692308 0.13043478 0.11111111]]\n",
            "pesos:  [0.26049796 0.63334572 0.10615632]\n",
            "lambda_max:  3.0387146809594667\n",
            "ci:  0.019357340479733365\n",
            "matriz_normalizada:  [[0.12195122 0.35714286 0.11267606]\n",
            " [0.02439024 0.07142857 0.09859155]\n",
            " [0.85365854 0.57142857 0.78873239]]\n",
            "pesos:  [0.19725671 0.06480345 0.73793983]\n",
            "lambda_max:  3.2609787428234056\n",
            "ci:  0.1304893714117028\n",
            "Uma das matrizes de alternativas (Critério 2) não é consistente. CR = 0.22\n",
            "matriz_normalizada:  [[0.22222222 0.28571429 0.21052632]\n",
            " [0.11111111 0.14285714 0.15789474]\n",
            " [0.66666667 0.57142857 0.63157895]]\n",
            "pesos:  [0.23948761 0.13728766 0.62322473]\n",
            "lambda_max:  3.018337257240187\n",
            "ci:  0.0091686286200936\n",
            "Pesos dos Critérios:  [0.31512449 0.6024712  0.08240431]\n",
            "Razão de Consistência dos Critérios (CR):  0.001708646345928768\n",
            "Pesos das Alternativas para cada Critério: \n",
            " [[0.26049796 0.19725671 0.23948761]\n",
            " [0.63334572 0.06480345 0.13728766]\n",
            " [0.10615632 0.73793983 0.62322473]]\n",
            "Razões de Consistência das Alternativas (CR):  [0.03337472496505753, 0.22498167484776346, 0.015807980379471724]\n",
            "Pontuação Final das Alternativas:  [0.22066558 0.24993806 0.52939636]\n"
          ]
        }
      ]
    },
    {
      "cell_type": "markdown",
      "source": [],
      "metadata": {
        "id": "zzvVyQ_Ug3sc"
      }
    }
  ]
}