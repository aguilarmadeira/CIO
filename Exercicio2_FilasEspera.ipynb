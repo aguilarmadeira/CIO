{
  "nbformat": 4,
  "nbformat_minor": 0,
  "metadata": {
    "colab": {
      "provenance": [],
      "authorship_tag": "ABX9TyOCC1ibk00m23oxfvKgtMk6",
      "include_colab_link": true
    },
    "kernelspec": {
      "name": "python3",
      "display_name": "Python 3"
    },
    "language_info": {
      "name": "python"
    }
  },
  "cells": [
    {
      "cell_type": "markdown",
      "metadata": {
        "id": "view-in-github",
        "colab_type": "text"
      },
      "source": [
        "<a href=\"https://colab.research.google.com/github/aguilarmadeira/CIO/blob/main/Exercicio2_FilasEspera.ipynb\" target=\"_parent\"><img src=\"https://colab.research.google.com/assets/colab-badge.svg\" alt=\"Open In Colab\"/></a>"
      ]
    },
    {
      "cell_type": "code",
      "execution_count": 1,
      "metadata": {
        "id": "8o-r4xaOK7mN",
        "outputId": "4c0f96d5-8307-470b-f3cc-930ac64af20c",
        "colab": {
          "base_uri": "https://localhost:8080/"
        }
      },
      "outputs": [
        {
          "output_type": "stream",
          "name": "stdout",
          "text": [
            "s = 2\n",
            "  Custo de salários: 40.00 u.m.\n",
            "  Custo de espera: 10.12 u.m.\n",
            "  Custo total: 50.12 u.m.\n",
            "  Probabilidade de um cliente ter que esperar (P(j > s)): 0.4500\n",
            "s = 3\n",
            "  Custo de salários: 60.00 u.m.\n",
            "  Custo de espera: 1.41 u.m.\n",
            "  Custo total: 61.41 u.m.\n",
            "  Probabilidade de um cliente ter que esperar (P(j > s)): 0.1412\n",
            "s = 4\n",
            "  Custo de salários: 80.00 u.m.\n",
            "  Custo de espera: 0.24 u.m.\n",
            "  Custo total: 80.24 u.m.\n",
            "  Probabilidade de um cliente ter que esperar (P(j > s)): 0.0370\n",
            "s = 5\n",
            "  Custo de salários: 100.00 u.m.\n",
            "  Custo de espera: 0.04 u.m.\n",
            "  Custo total: 100.04 u.m.\n",
            "  Probabilidade de um cliente ter que esperar (P(j > s)): 0.0082\n",
            "s = 6\n",
            "  Custo de salários: 120.00 u.m.\n",
            "  Custo de espera: 0.01 u.m.\n",
            "  Custo total: 120.01 u.m.\n",
            "  Probabilidade de um cliente ter que esperar (P(j > s)): 0.0016\n",
            "s = 7\n",
            "  Custo de salários: 140.00 u.m.\n",
            "  Custo de espera: 0.00 u.m.\n",
            "  Custo total: 140.00 u.m.\n",
            "  Probabilidade de um cliente ter que esperar (P(j > s)): 0.0003\n",
            "\n",
            "Número mínimo de caixas para estabilidade: 2\n",
            "Número ótimo de caixas para minimizar custo: 2\n",
            "Custo total mínimo: 50.12 u.m.\n",
            "Probabilidade de um cliente ter que esperar (P(j > s)) com 2 caixas: 0.4500\n",
            "Número de caixas para garantir P(j > s) < 0.05: 4\n",
            "Custo total nessa configuração: 80.24 u.m.\n"
          ]
        }
      ],
      "source": [
        "import math\n",
        "import numpy as np\n",
        "\n",
        "# Parâmetros do problema\n",
        "lmbda = 18  # Taxa de chegada (clientes por hora)\n",
        "mu = 15  # Taxa de serviço (clientes por hora)\n",
        "custo_salario_por_hora = 20  # Custo do salário por hora por caixa\n",
        "custo_espera_por_minuto = 0.25  # Custo de espera por cliente por minuto\n",
        "custo_espera_por_hora = custo_espera_por_minuto * 60  # Converter para custo por hora\n",
        "\n",
        "# Calcular o número mínimo de caixas para um sistema estável\n",
        "s_min = math.ceil(lmbda / mu)\n",
        "max_caixas = s_min + 5  # Considerar um número maior de caixas\n",
        "\n",
        "# Inicializar arrays para armazenar os custos\n",
        "custos_salarios = np.inf * np.ones(max_caixas)\n",
        "custos_espera = np.inf * np.ones(max_caixas)\n",
        "custos_totais = np.inf * np.ones(max_caixas)\n",
        "P_wait = np.zeros(max_caixas)  # Array para armazenar P(j > s)\n",
        "\n",
        "# Calcular custos para diferentes números de caixas abertas\n",
        "for s in range(s_min, max_caixas + 1):\n",
        "    rho = lmbda / (s * mu)\n",
        "    if rho >= 1:\n",
        "        continue  # O sistema não é estável se rho >= 1\n",
        "\n",
        "    # Calcular P0 (probabilidade de não haver clientes no sistema)\n",
        "    P0 = 1 / (sum((lmbda / mu)**n / math.factorial(n) for n in range(s)) + (lmbda / mu)**s / (math.factorial(s) * (1 - rho)))\n",
        "\n",
        "    # Calcular P(j > s)\n",
        "    P_wait[s-1] = ((lmbda / mu)**s / math.factorial(s)) * P0 / (1 - rho)\n",
        "\n",
        "    # Calcular Lq usando P(j > s)\n",
        "    Lq = (P_wait[s-1] * rho) / (1 - rho)\n",
        "\n",
        "    # Custos\n",
        "    custos_salarios[s-1] = s * custo_salario_por_hora\n",
        "    custos_espera[s-1] = Lq * custo_espera_por_hora\n",
        "    custos_totais[s-1] = custos_salarios[s-1] + custos_espera[s-1]\n",
        "\n",
        "    # Exibir valores para cada s\n",
        "    print(f's = {s}')\n",
        "    print(f'  Custo de salários: {custos_salarios[s-1]:.2f} u.m.')\n",
        "    print(f'  Custo de espera: {custos_espera[s-1]:.2f} u.m.')\n",
        "    print(f'  Custo total: {custos_totais[s-1]:.2f} u.m.')\n",
        "    print(f'  Probabilidade de um cliente ter que esperar (P(j > s)): {P_wait[s-1]:.4f}')\n",
        "\n",
        "# Encontrar o número ótimo de caixas que minimiza o custo total\n",
        "num_otimo_caixas = np.argmin(custos_totais[s_min-1:max_caixas]) + s_min\n",
        "\n",
        "# Encontrar o número de caixas que garante P(j > s) < 0.05\n",
        "s_satisfacao = np.where((P_wait < 0.05) & (custos_totais < np.inf))[0]\n",
        "s_satisfacao = s_satisfacao[0] + 1 if len(s_satisfacao) > 0 else None\n",
        "\n",
        "# Exibir resultados finais\n",
        "print(f'\\nNúmero mínimo de caixas para estabilidade: {s_min}')\n",
        "print(f'Número ótimo de caixas para minimizar custo: {num_otimo_caixas}')\n",
        "print(f'Custo total mínimo: {custos_totais[num_otimo_caixas-1]:.2f} u.m.')\n",
        "print(f'Probabilidade de um cliente ter que esperar (P(j > s)) com {num_otimo_caixas} caixas: {P_wait[num_otimo_caixas-1]:.4f}')\n",
        "\n",
        "if s_satisfacao is not None:\n",
        "    print(f'Número de caixas para garantir P(j > s) < 0.05: {s_satisfacao}')\n",
        "    print(f'Custo total nessa configuração: {custos_totais[s_satisfacao-1]:.2f} u.m.')\n",
        "else:\n",
        "    print(f'Não foi possível garantir P(j > s) < 0.05 com até {max_caixas} caixas.')\n"
      ]
    }
  ]
}