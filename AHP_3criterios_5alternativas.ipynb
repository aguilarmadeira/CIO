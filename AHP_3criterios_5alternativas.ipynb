{
  "nbformat": 4,
  "nbformat_minor": 0,
  "metadata": {
    "colab": {
      "provenance": [],
      "authorship_tag": "ABX9TyMvihhfvQLVNA3/ZDcHk2gF",
      "include_colab_link": true
    },
    "kernelspec": {
      "name": "python3",
      "display_name": "Python 3"
    },
    "language_info": {
      "name": "python"
    }
  },
  "cells": [
    {
      "cell_type": "markdown",
      "metadata": {
        "id": "view-in-github",
        "colab_type": "text"
      },
      "source": [
        "<a href=\"https://colab.research.google.com/github/aguilarmadeira/CIO/blob/main/AHP_3criterios_5alternativas.ipynb\" target=\"_parent\"><img src=\"https://colab.research.google.com/assets/colab-badge.svg\" alt=\"Open In Colab\"/></a>"
      ]
    },
    {
      "cell_type": "code",
      "execution_count": 1,
      "metadata": {
        "colab": {
          "base_uri": "https://localhost:8080/"
        },
        "id": "A158eVGRoTCN",
        "outputId": "f233261e-99a0-4f09-c1c8-f2a1cb425378"
      },
      "outputs": [
        {
          "output_type": "stream",
          "name": "stdout",
          "text": [
            "Priority Vector for current matrix:\n",
            "[0.29697472 0.16337387 0.53965141]\n",
            "Max Eigenvalue (maxEig): 3.0088357831131747\n",
            "Consistency Index (CI): 0.004417891556587339\n",
            "Consistency Ratio (CR): 0.007617054407909205\n",
            "\n",
            "Priority Vector for current matrix:\n",
            "[0.14349653 0.29188247 0.03786998 0.10195781 0.4247932 ]\n",
            "Max Eigenvalue (maxEig): 5.1586926283092325\n",
            "Consistency Index (CI): 0.03967315707730812\n",
            "Consistency Ratio (CR): 0.03542246167616796\n",
            "\n",
            "Priority Vector for current matrix:\n",
            "[0.29437147 0.08236909 0.45271481 0.13485116 0.03569347]\n",
            "Max Eigenvalue (maxEig): 5.111273104926623\n",
            "Consistency Index (CI): 0.02781827623165567\n",
            "Consistency Ratio (CR): 0.024837746635406846\n",
            "\n",
            "Priority Vector for current matrix:\n",
            "[0.24441837 0.07907583 0.4030787  0.13671355 0.13671355]\n",
            "Max Eigenvalue (maxEig): 5.032516120864598\n",
            "Consistency Index (CI): 0.008129030216149413\n",
            "Consistency Ratio (CR): 0.007258062692990547\n",
            "\n",
            "Final Scores for Alternatives:\n",
            "[0.22260817 0.14281205 0.30273019 0.12608771 0.20576188]\n",
            "The best alternative is Alternative 3 with a score of 0.3027.\n"
          ]
        }
      ],
      "source": [
        "import numpy as np\n",
        "\n",
        "def calculate_priority_vector(A):\n",
        "    eigvals, eigvecs = np.linalg.eig(A)\n",
        "    max_eigval = np.max(np.abs(eigvals))\n",
        "    max_eigvec = np.abs(eigvecs[:, np.argmax(np.abs(eigvals))])\n",
        "    priority_vector = max_eigvec / np.sum(max_eigvec)\n",
        "\n",
        "    n = A.shape[0]\n",
        "    CI = (max_eigval - n) / (n - 1)\n",
        "    RI = [0, 0, 0.58, 0.90, 1.12, 1.24, 1.32, 1.41, 1.45, 1.49, 1.51, 1.48, 1.56, 1.57, 1.59]\n",
        "    CR = CI / RI[n-1] if n-1 < len(RI) else None\n",
        "\n",
        "    print(f'Priority Vector for current matrix:\\n{priority_vector}')\n",
        "    print(f'Max Eigenvalue (maxEig): {max_eigval}')\n",
        "    print(f'Consistency Index (CI): {CI}')\n",
        "    print(f'Consistency Ratio (CR): {CR}\\n')\n",
        "\n",
        "    return priority_vector, CR\n",
        "\n",
        "# Example matrices\n",
        "criteria_matrix = np.array([\n",
        "    [1, 2, 0.5],\n",
        "    [0.5, 1, 0.333],\n",
        "    [2, 3, 1]\n",
        "])\n",
        "\n",
        "comparison_matrix_custo = np.array([\n",
        "    [1, 1/3, 5, 2, 0.25],\n",
        "    [3, 1, 7, 3, 0.5],\n",
        "    [0.2, 0.143, 1, 0.333, 0.125],\n",
        "    [0.5, 0.333, 3, 1, 0.333],\n",
        "    [4, 2, 8, 3, 1]\n",
        "])\n",
        "\n",
        "comparison_matrix_qualidade = np.array([\n",
        "    [1, 4, 0.5, 3, 7],\n",
        "    [0.25, 1, 0.2, 0.5, 3],\n",
        "    [2, 5, 1, 4, 9],\n",
        "    [0.333, 2, 0.25, 1, 5],\n",
        "    [0.143, 0.333, 0.111, 0.2, 1]\n",
        "])\n",
        "\n",
        "comparison_matrix_tempo = np.array([\n",
        "    [1, 3, 0.5, 2, 2],\n",
        "    [0.333, 1, 0.25, 0.5, 0.5],\n",
        "    [2, 4, 1, 3, 3],\n",
        "    [0.5, 2, 0.333, 1, 1],\n",
        "    [0.5, 2, 0.333, 1, 1]\n",
        "])\n",
        "\n",
        "# Calculate priority vectors and CRs\n",
        "priority_criteria, CR_criteria = calculate_priority_vector(criteria_matrix)\n",
        "priority_custo, CR_custo = calculate_priority_vector(comparison_matrix_custo)\n",
        "priority_qualidade, CR_qualidade = calculate_priority_vector(comparison_matrix_qualidade)\n",
        "priority_tempo, CR_tempo = calculate_priority_vector(comparison_matrix_tempo)\n",
        "\n",
        "# Aggregate the results\n",
        "final_scores = (priority_criteria[0] * priority_custo +\n",
        "                priority_criteria[1] * priority_qualidade +\n",
        "                priority_criteria[2] * priority_tempo)\n",
        "\n",
        "print('Final Scores for Alternatives:')\n",
        "print(final_scores)\n",
        "\n",
        "# Identify the best alternative\n",
        "best_index = np.argmax(final_scores) + 1  # Adding 1 to convert 0-based index to 1-based\n",
        "best_score = final_scores[best_index - 1]\n",
        "print(f'The best alternative is Alternative {best_index} with a score of {best_score:.4f}.')\n"
      ]
    }
  ]
}