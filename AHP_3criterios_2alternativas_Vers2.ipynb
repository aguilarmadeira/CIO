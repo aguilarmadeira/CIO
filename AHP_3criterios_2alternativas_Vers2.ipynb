{
  "nbformat": 4,
  "nbformat_minor": 0,
  "metadata": {
    "colab": {
      "provenance": [],
      "authorship_tag": "ABX9TyPVa2yOyzz4uvdlgsk6zMOb",
      "include_colab_link": true
    },
    "kernelspec": {
      "name": "python3",
      "display_name": "Python 3"
    },
    "language_info": {
      "name": "python"
    }
  },
  "cells": [
    {
      "cell_type": "markdown",
      "metadata": {
        "id": "view-in-github",
        "colab_type": "text"
      },
      "source": [
        "<a href=\"https://colab.research.google.com/github/aguilarmadeira/CIO/blob/main/AHP_3criterios_2alternativas.ipynb\" target=\"_parent\"><img src=\"https://colab.research.google.com/assets/colab-badge.svg\" alt=\"Open In Colab\"/></a>"
      ]
    },
    {
      "cell_type": "code",
      "execution_count": 1,
      "metadata": {
        "colab": {
          "base_uri": "https://localhost:8080/"
        },
        "id": "ULkEw9Ao0Hqt",
        "outputId": "a50dc12d-3c9f-495a-de4e-8fe4a383bdcc"
      },
      "outputs": [
        {
          "output_type": "stream",
          "name": "stdout",
          "text": [
            "Max Eigenvalue (maxEig): 3.1078473338549757\n",
            "Consistency Index (CI): 0.053923666927487846\n",
            "Consistency Ratio (CR): 0.09297183953015146\n",
            "Max Eigenvalue (maxEig): 2.0\n",
            "Consistency Index (CI): 0.0\n",
            "Consistency Ratio (CR): nan\n",
            "Max Eigenvalue (maxEig): 2.0\n",
            "Consistency Index (CI): 0.0\n",
            "Consistency Ratio (CR): nan\n",
            "Max Eigenvalue (maxEig): 2.0\n",
            "Consistency Index (CI): 0.0\n",
            "Consistency Ratio (CR): nan\n",
            "Final Scores for Alternatives:\n",
            "[0.53685147 0.46314853]\n",
            "The best alternative is Alternative 1 with a score of 0.5369.\n"
          ]
        },
        {
          "output_type": "stream",
          "name": "stderr",
          "text": [
            "<ipython-input-1-638177ab3dd7>:11: RuntimeWarning: invalid value encountered in scalar divide\n",
            "  CR = CI / RI[A.shape[0] - 1]\n"
          ]
        }
      ],
      "source": [
        "import numpy as np\n",
        "\n",
        "def calculate_priority_vector(A):\n",
        "    eigvals, eigvecs = np.linalg.eig(A)\n",
        "    max_eigval = np.max(np.abs(eigvals))\n",
        "    max_eigvec = np.abs(eigvecs[:, np.argmax(np.abs(eigvals))])\n",
        "    priority_vector = max_eigvec / np.sum(max_eigvec)\n",
        "\n",
        "    CI = (max_eigval - A.shape[0]) / (A.shape[0] - 1)\n",
        "    RI = [0, 0, 0.58, 0.90, 1.12, 1.24, 1.32, 1.41]  # RI values for matrices of size up to 8\n",
        "    CR = CI / RI[A.shape[0] - 1]\n",
        "    consistency_ratio = CR\n",
        "\n",
        "    print(f'Max Eigenvalue (maxEig): {max_eigval}')\n",
        "    print(f'Consistency Index (CI): {CI}')\n",
        "    print(f'Consistency Ratio (CR): {consistency_ratio}')\n",
        "\n",
        "    return priority_vector, consistency_ratio\n",
        "\n",
        "# Define the criteria matrix and comparison matrices for alternatives\n",
        "criteria_matrix = np.array([\n",
        "    [1, 2, 3],\n",
        "    [0.5, 1, 4],\n",
        "    [1/3, 1/4, 1]\n",
        "])\n",
        "\n",
        "comparison_matrix_custo = np.array([\n",
        "    [1, 1/3],\n",
        "    [3, 1]\n",
        "])\n",
        "\n",
        "comparison_matrix_qualidade = np.array([\n",
        "    [1, 5],\n",
        "    [1/5, 1]\n",
        "])\n",
        "\n",
        "comparison_matrix_tempo = np.array([\n",
        "    [1, 7],\n",
        "    [1/7, 1]\n",
        "])\n",
        "\n",
        "# Calculate priority vectors and consistency ratios for criteria and each alternative\n",
        "priority_criteria, CR_criteria = calculate_priority_vector(criteria_matrix)\n",
        "priority_custo, CR_custo = calculate_priority_vector(comparison_matrix_custo)\n",
        "priority_qualidade, CR_qualidade = calculate_priority_vector(comparison_matrix_qualidade)\n",
        "priority_tempo, CR_tempo = calculate_priority_vector(comparison_matrix_tempo)\n",
        "\n",
        "# Aggregate the results based on the weights of the criteria\n",
        "final_scores = (priority_criteria[0] * priority_custo +\n",
        "                priority_criteria[1] * priority_qualidade +\n",
        "                priority_criteria[2] * priority_tempo)\n",
        "\n",
        "# Display the final scores\n",
        "print('Final Scores for Alternatives:')\n",
        "print(final_scores)\n",
        "\n",
        "# Identify the best alternative\n",
        "best_score = np.max(final_scores)\n",
        "best_index = np.argmax(final_scores) + 1  # Adding 1 to match MATLAB's 1-based indexing\n",
        "print(f'The best alternative is Alternative {best_index} with a score of {best_score:.4f}.')\n"
      ]
    }
  ]
}
