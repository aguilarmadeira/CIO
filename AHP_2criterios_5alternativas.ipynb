{
  "nbformat": 4,
  "nbformat_minor": 0,
  "metadata": {
    "colab": {
      "provenance": [],
      "authorship_tag": "ABX9TyOcqzLCyl4ah8ooWwPrauvr",
      "include_colab_link": true
    },
    "kernelspec": {
      "name": "python3",
      "display_name": "Python 3"
    },
    "language_info": {
      "name": "python"
    }
  },
  "cells": [
    {
      "cell_type": "markdown",
      "metadata": {
        "id": "view-in-github",
        "colab_type": "text"
      },
      "source": [
        "<a href=\"https://colab.research.google.com/github/aguilarmadeira/CIO/blob/main/AHP_2criterios_5alternativas.ipynb\" target=\"_parent\"><img src=\"https://colab.research.google.com/assets/colab-badge.svg\" alt=\"Open In Colab\"/></a>"
      ]
    },
    {
      "cell_type": "code",
      "execution_count": 2,
      "metadata": {
        "colab": {
          "base_uri": "https://localhost:8080/"
        },
        "id": "VowZ-b-dxsN-",
        "outputId": "b7f65569-0ec6-440a-ba3d-59b3c992c303"
      },
      "outputs": [
        {
          "output_type": "stream",
          "name": "stdout",
          "text": [
            "Max Eigenvalue (maxEig): 2.0\n",
            "Consistency Index (CI): 0.0\n",
            "Consistency Ratio (CR): 0.0000\n",
            "Max Eigenvalue (maxEig): 5.245528423217113\n",
            "Consistency Index (CI): 0.061382105804278275\n",
            "Consistency Ratio (CR): 0.0495\n",
            "Max Eigenvalue (maxEig): 5.178620062061693\n",
            "Consistency Index (CI): 0.04465501551542328\n",
            "Consistency Ratio (CR): 0.0360\n",
            "Final Scores for Alternatives:\n",
            "[0.15574891 0.13888126 0.18630739 0.20879399 0.31026845]\n",
            "The best alternative is Alternative 5 with a score of 0.3103.\n"
          ]
        }
      ],
      "source": [
        "import numpy as np\n",
        "\n",
        "def calculate_priority_vector(A):\n",
        "    eigvals, eigvecs = np.linalg.eig(A)\n",
        "    max_eigval = np.max(np.abs(eigvals))\n",
        "    max_eigvec = np.abs(eigvecs[:, np.argmax(np.abs(eigvals))])\n",
        "    priority_vector = max_eigvec / np.sum(max_eigvec)\n",
        "\n",
        "    CI = (max_eigval - A.shape[0]) / (A.shape[0] - 1)\n",
        "    RI = [0, 0, 0.58, 0.90, 1.12, 1.24, 1.32, 1.41, 1.45, 1.49, 1.51, 1.48, 1.56, 1.57, 1.59]\n",
        "    CR = CI / RI[A.shape[0]] if A.shape[0] < len(RI) else None\n",
        "\n",
        "    # Print the maximum eigenvalue, CI, and CR for the matrix\n",
        "    print(f\"Max Eigenvalue (maxEig): {max_eigval}\")\n",
        "    print(f\"Consistency Index (CI): {CI}\")\n",
        "    if CR is not None:\n",
        "        print(f\"Consistency Ratio (CR): {CR:.4f}\")\n",
        "        if CR > 0.1:\n",
        "            print('Warning: Consistency Ratio is above 0.1, consider revising the pairwise comparison matrix.')\n",
        "    else:\n",
        "        print('CR calculation out of bounds, please check RI array length.')\n",
        "\n",
        "    return priority_vector, CR\n",
        "\n",
        "# Define the criteria matrix and comparison matrices\n",
        "criteria_matrix = np.array([\n",
        "    [1, 2],\n",
        "    [0.5, 1]\n",
        "])\n",
        "\n",
        "comparison_matrix1 = np.array([\n",
        "    [1, 3, 7, 0.5, 1/3],\n",
        "    [1/3, 1, 5, 0.2, 1/7],\n",
        "    [1/7, 1/5, 1, 1/9, 1/8],\n",
        "    [2, 5, 9, 1, 0.5],\n",
        "    [3, 7, 8, 2, 1]\n",
        "])\n",
        "\n",
        "comparison_matrix2 = np.array([\n",
        "    [1, 1/3, 1/5, 3, 3],\n",
        "    [3, 1, 1/3, 5, 5],\n",
        "    [5, 3, 1, 6, 6],\n",
        "    [1/3, 1/5, 1/6, 1, 1],\n",
        "    [1/3, 1/5, 1/6, 1, 1]\n",
        "])\n",
        "\n",
        "# Calculate priority vectors and consistency ratios\n",
        "priority_criteria, CR_criteria = calculate_priority_vector(criteria_matrix)\n",
        "priority_alternatives1, CR_alt1 = calculate_priority_vector(comparison_matrix1)\n",
        "priority_alternatives2, CR_alt2 = calculate_priority_vector(comparison_matrix2)\n",
        "\n",
        "# Aggregate the results based on the criteria weights\n",
        "final_scores = priority_criteria[0] * priority_alternatives1 + priority_criteria[1] * priority_alternatives2\n",
        "\n",
        "# Display the results\n",
        "print('Final Scores for Alternatives:')\n",
        "print(final_scores)\n",
        "\n",
        "# Identify the best alternative\n",
        "best_score = np.max(final_scores)\n",
        "best_index = np.argmax(final_scores)\n",
        "print(f'The best alternative is Alternative {best_index + 1} with a score of {best_score:.4f}.')"
      ]
    }
  ]
}